{
  "nbformat": 4,
  "nbformat_minor": 0,
  "metadata": {
    "colab": {
      "provenance": []
    },
    "kernelspec": {
      "name": "python3",
      "display_name": "Python 3"
    },
    "language_info": {
      "name": "python"
    }
  },
  "cells": [
    {
      "cell_type": "markdown",
      "source": [
        "Lazy Predict helps build a lot of basic models without much code and helps understand which models works better without any parameter tuning"
      ],
      "metadata": {
        "id": "8bXwoetygc0q"
      }
    },
    {
      "cell_type": "code",
      "execution_count": 1,
      "metadata": {
        "colab": {
          "base_uri": "https://localhost:8080/"
        },
        "id": "XdSfLX9pgVQw",
        "outputId": "62d0b2bf-7857-41b4-e4ab-91e566fdbb17"
      },
      "outputs": [
        {
          "output_type": "stream",
          "name": "stdout",
          "text": [
            "Looking in indexes: https://pypi.org/simple, https://us-python.pkg.dev/colab-wheels/public/simple/\n",
            "Collecting lazypredict\n",
            "  Downloading lazypredict-0.2.12-py2.py3-none-any.whl (12 kB)\n",
            "Requirement already satisfied: scikit-learn in /usr/local/lib/python3.8/dist-packages (from lazypredict) (1.0.2)\n",
            "Requirement already satisfied: lightgbm in /usr/local/lib/python3.8/dist-packages (from lazypredict) (2.2.3)\n",
            "Requirement already satisfied: pandas in /usr/local/lib/python3.8/dist-packages (from lazypredict) (1.3.5)\n",
            "Requirement already satisfied: xgboost in /usr/local/lib/python3.8/dist-packages (from lazypredict) (0.90)\n",
            "Requirement already satisfied: joblib in /usr/local/lib/python3.8/dist-packages (from lazypredict) (1.2.0)\n",
            "Requirement already satisfied: tqdm in /usr/local/lib/python3.8/dist-packages (from lazypredict) (4.64.1)\n",
            "Requirement already satisfied: click in /usr/local/lib/python3.8/dist-packages (from lazypredict) (7.1.2)\n",
            "Requirement already satisfied: scipy in /usr/local/lib/python3.8/dist-packages (from lightgbm->lazypredict) (1.7.3)\n",
            "Requirement already satisfied: numpy in /usr/local/lib/python3.8/dist-packages (from lightgbm->lazypredict) (1.21.6)\n",
            "Requirement already satisfied: pytz>=2017.3 in /usr/local/lib/python3.8/dist-packages (from pandas->lazypredict) (2022.7.1)\n",
            "Requirement already satisfied: python-dateutil>=2.7.3 in /usr/local/lib/python3.8/dist-packages (from pandas->lazypredict) (2.8.2)\n",
            "Requirement already satisfied: threadpoolctl>=2.0.0 in /usr/local/lib/python3.8/dist-packages (from scikit-learn->lazypredict) (3.1.0)\n",
            "Requirement already satisfied: six>=1.5 in /usr/local/lib/python3.8/dist-packages (from python-dateutil>=2.7.3->pandas->lazypredict) (1.15.0)\n",
            "Installing collected packages: lazypredict\n",
            "Successfully installed lazypredict-0.2.12\n"
          ]
        }
      ],
      "source": [
        "pip install lazypredict"
      ]
    },
    {
      "cell_type": "code",
      "source": [
        "import lazypredict"
      ],
      "metadata": {
        "id": "4mWVv71BgrcW"
      },
      "execution_count": 2,
      "outputs": []
    },
    {
      "cell_type": "code",
      "source": [
        "from lazypredict.Supervised import LazyClassifier\n",
        "from sklearn.datasets import load_breast_cancer\n",
        "from sklearn.model_selection import train_test_split"
      ],
      "metadata": {
        "id": "7s004GFegtrO"
      },
      "execution_count": 3,
      "outputs": []
    },
    {
      "cell_type": "code",
      "source": [
        "data = load_breast_cancer()\n",
        "X = data.data\n",
        "y= data.target"
      ],
      "metadata": {
        "id": "IYWGqxEHgvrE"
      },
      "execution_count": 4,
      "outputs": []
    },
    {
      "cell_type": "code",
      "source": [
        "X_train, X_test, y_train, y_test = train_test_split(X, y,test_size=.5,random_state =123)"
      ],
      "metadata": {
        "id": "zJ4I2WAjgyW8"
      },
      "execution_count": 5,
      "outputs": []
    },
    {
      "cell_type": "code",
      "source": [
        "clf = LazyClassifier(verbose=0,ignore_warnings=True, custom_metric=None)\n",
        "models,predictions = clf.fit(X_train, X_test, y_train, y_test)"
      ],
      "metadata": {
        "colab": {
          "base_uri": "https://localhost:8080/"
        },
        "id": "XUbREPwhg0zN",
        "outputId": "163b1560-05b3-4441-8142-2dd8a0340f2c"
      },
      "execution_count": 7,
      "outputs": [
        {
          "output_type": "stream",
          "name": "stderr",
          "text": [
            "100%|██████████| 29/29 [00:01<00:00, 24.30it/s]\n"
          ]
        }
      ]
    },
    {
      "cell_type": "code",
      "source": [
        "print(models)"
      ],
      "metadata": {
        "colab": {
          "base_uri": "https://localhost:8080/"
        },
        "id": "U3xM1Ww2g6cT",
        "outputId": "1f3a3074-e814-4c96-dad1-c771de5c7b0a"
      },
      "execution_count": 8,
      "outputs": [
        {
          "output_type": "stream",
          "name": "stdout",
          "text": [
            "                               Accuracy  Balanced Accuracy  ROC AUC  F1 Score  \\\n",
            "Model                                                                           \n",
            "LinearSVC                          0.99               0.99     0.99      0.99   \n",
            "Perceptron                         0.99               0.98     0.98      0.99   \n",
            "LogisticRegression                 0.99               0.98     0.98      0.99   \n",
            "XGBClassifier                      0.98               0.98     0.98      0.98   \n",
            "SVC                                0.98               0.98     0.98      0.98   \n",
            "LabelPropagation                   0.98               0.97     0.97      0.98   \n",
            "LabelSpreading                     0.98               0.97     0.97      0.98   \n",
            "BaggingClassifier                  0.97               0.97     0.97      0.97   \n",
            "PassiveAggressiveClassifier        0.98               0.97     0.97      0.98   \n",
            "SGDClassifier                      0.98               0.97     0.97      0.98   \n",
            "RandomForestClassifier             0.97               0.97     0.97      0.97   \n",
            "CalibratedClassifierCV             0.98               0.97     0.97      0.98   \n",
            "QuadraticDiscriminantAnalysis      0.96               0.97     0.97      0.97   \n",
            "ExtraTreesClassifier               0.97               0.96     0.96      0.97   \n",
            "RidgeClassifierCV                  0.97               0.96     0.96      0.97   \n",
            "LGBMClassifier                     0.96               0.96     0.96      0.96   \n",
            "RidgeClassifier                    0.97               0.96     0.96      0.97   \n",
            "AdaBoostClassifier                 0.96               0.96     0.96      0.96   \n",
            "KNeighborsClassifier               0.96               0.96     0.96      0.96   \n",
            "BernoulliNB                        0.95               0.95     0.95      0.95   \n",
            "LinearDiscriminantAnalysis         0.96               0.95     0.95      0.96   \n",
            "GaussianNB                         0.95               0.95     0.95      0.95   \n",
            "NuSVC                              0.95               0.94     0.94      0.95   \n",
            "ExtraTreeClassifier                0.94               0.93     0.93      0.94   \n",
            "NearestCentroid                    0.95               0.93     0.93      0.95   \n",
            "DecisionTreeClassifier             0.93               0.93     0.93      0.93   \n",
            "DummyClassifier                    0.64               0.50     0.50      0.50   \n",
            "\n",
            "                               Time Taken  \n",
            "Model                                      \n",
            "LinearSVC                            0.04  \n",
            "Perceptron                           0.01  \n",
            "LogisticRegression                   0.04  \n",
            "XGBClassifier                        0.15  \n",
            "SVC                                  0.02  \n",
            "LabelPropagation                     0.02  \n",
            "LabelSpreading                       0.02  \n",
            "BaggingClassifier                    0.04  \n",
            "PassiveAggressiveClassifier          0.01  \n",
            "SGDClassifier                        0.02  \n",
            "RandomForestClassifier               0.18  \n",
            "CalibratedClassifierCV               0.03  \n",
            "QuadraticDiscriminantAnalysis        0.03  \n",
            "ExtraTreesClassifier                 0.12  \n",
            "RidgeClassifierCV                    0.02  \n",
            "LGBMClassifier                       0.09  \n",
            "RidgeClassifier                      0.01  \n",
            "AdaBoostClassifier                   0.14  \n",
            "KNeighborsClassifier                 0.03  \n",
            "BernoulliNB                          0.01  \n",
            "LinearDiscriminantAnalysis           0.04  \n",
            "GaussianNB                           0.01  \n",
            "NuSVC                                0.02  \n",
            "ExtraTreeClassifier                  0.01  \n",
            "NearestCentroid                      0.01  \n",
            "DecisionTreeClassifier               0.02  \n",
            "DummyClassifier                      0.01  \n"
          ]
        }
      ]
    }
  ]
}